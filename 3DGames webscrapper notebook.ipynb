{
 "cells": [
  {
   "cell_type": "code",
   "execution_count": 71,
   "id": "b1826779",
   "metadata": {},
   "outputs": [],
   "source": [
    "import requests\n",
    "from bs4 import BeautifulSoup\n",
    "import telebot\n",
    "import time\n",
    "import json\n",
    "\n",
    "SLEEP_TIME = 2 #time in seconds to avoid timeout error using telegram api\n",
    "TOKEN = \"2026736293:AAHtfWtfMYlnQuPP9C0raA4Ow2Sa91VEfjU\"\n",
    "CHAT_ID = \"-1001438784407\"\n",
    "request_url = \"https://api.telegram.org/bot\" + TOKEN"
   ]
  },
  {
   "cell_type": "code",
   "execution_count": 72,
   "id": "a2005343",
   "metadata": {},
   "outputs": [],
   "source": [
    "f = open(\"lastPostIdCrawled.txt\", \"r\")\n",
    "lastIdCrawled = f.read()"
   ]
  },
  {
   "cell_type": "code",
   "execution_count": 73,
   "id": "4595fb20",
   "metadata": {},
   "outputs": [],
   "source": [
    "URL = \"https://foros.3dgames.com.ar/threads/942062-ofertas-online-argentina\"\n",
    "landingPage = BeautifulSoup(requests.get(URL).content, \"html.parser\")\n",
    "lastThreadPageNumber = landingPage.find(\"span\", class_=\"first_last\").find(\"a\")[\"href\"][44:49]"
   ]
  },
  {
   "cell_type": "code",
   "execution_count": 74,
   "id": "db183611",
   "metadata": {},
   "outputs": [
    {
     "name": "stdout",
     "output_type": "stream",
     "text": [
      "Crawling thread number:13750\n",
      "Crawling thread number:13749\n",
      "Crawling thread number:13748\n",
      "Crawling thread number:13747\n",
      "Crawling thread number:13746\n",
      "Crawling thread number:13745\n"
     ]
    }
   ],
   "source": [
    "crawledPosts = {}\n",
    "postIds = []\n",
    "\n",
    "pageNumberToCrawl = lastThreadPageNumber\n",
    "\n",
    "while lastIdCrawled not in postIds:\n",
    "    print(\"Crawling thread number:\" + str(pageNumberToCrawl))\n",
    "    page = BeautifulSoup(requests.get(URL + \"/page\" + str(pageNumberToCrawl)).content, \"html.parser\")\n",
    "    posts = page.find(\"ol\", class_=\"posts\").find_all(\"li\", class_=\"postbitlegacy postbitim postcontainer old\")\n",
    "    crawledPosts[pageNumberToCrawl] = posts\n",
    "    postIds =[post['id'] for post in page.find(\"ol\", class_=\"posts\").find_all(\"span\", class_=\"fixscroll\")]\n",
    "    pageNumberToCrawl = int(pageNumberToCrawl)-1"
   ]
  },
  {
   "cell_type": "code",
   "execution_count": 83,
   "id": "13ab4849",
   "metadata": {
    "scrolled": true
   },
   "outputs": [
    {
     "name": "stdout",
     "output_type": "stream",
     "text": [
      "b'{\"ok\":true,\"result\":{\"message_id\":320,\"sender_chat\":{\"id\":-1001438784407,\"title\":\"3dgames ofertas\",\"type\":\"channel\"},\"chat\":{\"id\":-1001438784407,\"title\":\"3dgames ofertas\",\"type\":\"channel\"},\"date\":1642972139,\"text\":\"22-01-22,\\\\u00a011:11 AM \\\\nAuthor: Aleca\\\\n\\\\n\\\\nEste es el mail que me lleg\\\\u00f3, en la letra chica dice que es para los que le llega el mail pero peleala porque es lo mismo que me ofrecieron por telefono la mina que me llam\\\\u00f3.\\\\n\\\\n\\\\n\\\\nSi en la web de Vomistar vas a la parte de altas vas a ver la misma oferta, en portabilidad no es as\\\\u00ed. Yo se la pelear\\\\u00eda, el otro dia por twitter me echaron flit con el telefono fijo a pesar de tener una resoluci\\\\u00f3n del ENACOM a favor m\\\\u00edo y llamando por tel\\\\u00e9fono a la tarde me dieron el descuento al toque una mina que estaba haciendo homeoffice (se lo escuchaba al pibe haciendo quilombo)\\\\n\\\\n\\\\n\\\\n\\\\nLink:https://ibb.co/YjGsD3k\\\\nLink:https://ibb.co/ch5F8qN\",\"entities\":[{\"offset\":612,\"length\":22,\"type\":\"url\"},{\"offset\":640,\"length\":22,\"type\":\"url\"}]}}'\n"
     ]
    },
    {
     "ename": "TypeError",
     "evalue": "byte indices must be integers or slices, not str",
     "output_type": "error",
     "traceback": [
      "\u001b[0;31m---------------------------------------------------------------------------\u001b[0m",
      "\u001b[0;31mTypeError\u001b[0m                                 Traceback (most recent call last)",
      "\u001b[0;32m/tmp/ipykernel_2417/2251339545.py\u001b[0m in \u001b[0;36m<module>\u001b[0;34m\u001b[0m\n\u001b[1;32m     52\u001b[0m                     \u001b[0;34m\"chat_id\"\u001b[0m\u001b[0;34m:\u001b[0m \u001b[0mCHAT_ID\u001b[0m\u001b[0;34m,\u001b[0m\u001b[0;34m\u001b[0m\u001b[0;34m\u001b[0m\u001b[0m\n\u001b[1;32m     53\u001b[0m                     \u001b[0;34m\"media\"\u001b[0m\u001b[0;34m:\u001b[0m \u001b[0mjson\u001b[0m\u001b[0;34m.\u001b[0m\u001b[0mdumps\u001b[0m\u001b[0;34m(\u001b[0m\u001b[0marrayOfImages\u001b[0m\u001b[0;34m,\u001b[0m \u001b[0mseparators\u001b[0m\u001b[0;34m=\u001b[0m\u001b[0;34m(\u001b[0m\u001b[0;34m','\u001b[0m\u001b[0;34m,\u001b[0m \u001b[0;34m':'\u001b[0m\u001b[0;34m)\u001b[0m\u001b[0;34m)\u001b[0m\u001b[0;34m,\u001b[0m\u001b[0;34m\u001b[0m\u001b[0;34m\u001b[0m\u001b[0m\n\u001b[0;32m---> 54\u001b[0;31m                     \u001b[0;34m\"reply_to_message_id\"\u001b[0m \u001b[0;34m:\u001b[0m \u001b[0mint\u001b[0m\u001b[0;34m(\u001b[0m\u001b[0mresults\u001b[0m\u001b[0;34m.\u001b[0m\u001b[0mcontent\u001b[0m\u001b[0;34m[\u001b[0m\u001b[0;34m'result'\u001b[0m\u001b[0;34m]\u001b[0m\u001b[0;34m[\u001b[0m\u001b[0;34m'message_id'\u001b[0m\u001b[0;34m]\u001b[0m\u001b[0;34m)\u001b[0m\u001b[0;34m\u001b[0m\u001b[0;34m\u001b[0m\u001b[0m\n\u001b[0m\u001b[1;32m     55\u001b[0m                 }\n\u001b[1;32m     56\u001b[0m                 \u001b[0mresults\u001b[0m \u001b[0;34m=\u001b[0m \u001b[0mrequests\u001b[0m\u001b[0;34m.\u001b[0m\u001b[0mpost\u001b[0m\u001b[0;34m(\u001b[0m\u001b[0mrequest_url\u001b[0m \u001b[0;34m+\u001b[0m \u001b[0;34m\"/sendMediaGroup\"\u001b[0m\u001b[0;34m,\u001b[0m \u001b[0mparams\u001b[0m\u001b[0;34m=\u001b[0m \u001b[0mparams\u001b[0m\u001b[0;34m)\u001b[0m\u001b[0;34m\u001b[0m\u001b[0;34m\u001b[0m\u001b[0m\n",
      "\u001b[0;31mTypeError\u001b[0m: byte indices must be integers or slices, not str"
     ]
    }
   ],
   "source": [
    "blackListedPostIds = postIds[0:postIds.index(lastIdCrawled)] \n",
    "for savedPage in reversed(crawledPosts):\n",
    "    posts = crawledPosts[savedPage]\n",
    "    for post in posts:\n",
    "        try:\n",
    "            if post.find(\"span\", class_=\"fixscroll\")['id'] in blackListedPostIds: continue\n",
    "        except:\n",
    "            continue\n",
    "        sendMessage = []\n",
    "        author = post.find(\"div\", class_=\"popupmenu memberaction\").find(\"strong\").text\n",
    "        if author == \"3DGames\": continue #exclude Ads\n",
    "        datetime = post.find(\"div\", class_=\"posthead\").find(\"span\", class_=\"date\").text\n",
    "        message = post.find(\"div\", class_=\"content\")\n",
    "        quotes = message.find_all(\"div\", class_=\"bbcode_container\")\n",
    "\n",
    "        sendMessage = datetime\n",
    "        sendMessage = sendMessage + \" \\n\" + \"Author: \" + author\n",
    "\n",
    "        if len(quotes) > 0:\n",
    "            for quote in quotes:\n",
    "                sendMessage = sendMessage + \"\\n\" + \"Quoted message from:\" + quote.find(\"div\", class_=\"bbcode_postedby\").find(\"strong\").text\n",
    "                sendMessage = sendMessage + \"\\n\" + '\"' + quote.find(\"div\", class_=\"message\").text + '\"'\n",
    "            for quote in message(\"div\", class_=\"bbcode_container\"):\n",
    "                quote.decompose()\n",
    "\n",
    "        images = message.find_all(\"img\")\n",
    "        links = message.find_all(\"a\")\n",
    "\n",
    "        sendMessage = sendMessage + \"\\n\" + message.text\n",
    "        \n",
    "        if len(links) > 0:\n",
    "            for link in links:\n",
    "                if isinstance(link, type(None)):\n",
    "                    continue\n",
    "                sendMessage = sendMessage + \"\\n\" + \"Link:\" + link[\"href\"]\n",
    "                \n",
    "        params = {\n",
    "            \"chat_id\": CHAT_ID,\n",
    "            \"text\": sendMessage\n",
    "        }\n",
    "        results = requests.post(request_url + \"/sendMessage\", params= params)\n",
    "\n",
    "        if len(images) > 0:\n",
    "            arrayOfImages = []\n",
    "            for image in images:\n",
    "                if isinstance(image, type(None)):\n",
    "                    continue\n",
    "                if 'http' in image[\"src\"]:\n",
    "                    arrayOfImages.append({\"type\":\"photo\",\"media\":image[\"src\"]})\n",
    "            if len(arrayOfImages) > 0:\n",
    "                params = {\n",
    "                    \"chat_id\": CHAT_ID,\n",
    "                    \"media\": json.dumps(arrayOfImages, separators=(',', ':')),\n",
    "                    \"reply_to_message_id\" : int(results.json()['result']['message_id'])\n",
    "                }\n",
    "                results = requests.post(request_url + \"/sendMediaGroup\", params= params)\n",
    "            \n",
    "        time.sleep(SLEEP_TIME)\n"
   ]
  },
  {
   "cell_type": "code",
   "execution_count": 141,
   "id": "56cb6a6e",
   "metadata": {},
   "outputs": [],
   "source": [
    "lastPostId = crawledPosts[lastThreadPageNumber][-1].find(\"span\", class_=\"fixscroll\")['id']\n",
    "with open('lastPostIdCrawled.txt', 'w') as f:\n",
    "    f.write(lastPostId)"
   ]
  },
  {
   "cell_type": "code",
   "execution_count": 86,
   "id": "5a4551e3",
   "metadata": {},
   "outputs": [
    {
     "data": {
      "text/plain": [
       "b'{\"ok\":true,\"result\":{\"message_id\":320,\"sender_chat\":{\"id\":-1001438784407,\"title\":\"3dgames ofertas\",\"type\":\"channel\"},\"chat\":{\"id\":-1001438784407,\"title\":\"3dgames ofertas\",\"type\":\"channel\"},\"date\":1642972139,\"text\":\"22-01-22,\\\\u00a011:11 AM \\\\nAuthor: Aleca\\\\n\\\\n\\\\nEste es el mail que me lleg\\\\u00f3, en la letra chica dice que es para los que le llega el mail pero peleala porque es lo mismo que me ofrecieron por telefono la mina que me llam\\\\u00f3.\\\\n\\\\n\\\\n\\\\nSi en la web de Vomistar vas a la parte de altas vas a ver la misma oferta, en portabilidad no es as\\\\u00ed. Yo se la pelear\\\\u00eda, el otro dia por twitter me echaron flit con el telefono fijo a pesar de tener una resoluci\\\\u00f3n del ENACOM a favor m\\\\u00edo y llamando por tel\\\\u00e9fono a la tarde me dieron el descuento al toque una mina que estaba haciendo homeoffice (se lo escuchaba al pibe haciendo quilombo)\\\\n\\\\n\\\\n\\\\n\\\\nLink:https://ibb.co/YjGsD3k\\\\nLink:https://ibb.co/ch5F8qN\",\"entities\":[{\"offset\":612,\"length\":22,\"type\":\"url\"},{\"offset\":640,\"length\":22,\"type\":\"url\"}]}}'"
      ]
     },
     "execution_count": 86,
     "metadata": {},
     "output_type": "execute_result"
    }
   ],
   "source": [
    "results.text"
   ]
  },
  {
   "cell_type": "code",
   "execution_count": 90,
   "id": "8ed641e4",
   "metadata": {},
   "outputs": [
    {
     "data": {
      "text/plain": [
       "320"
      ]
     },
     "execution_count": 90,
     "metadata": {},
     "output_type": "execute_result"
    }
   ],
   "source": [
    "results.json()['result']['message_id']"
   ]
  },
  {
   "cell_type": "code",
   "execution_count": null,
   "id": "504c24dd",
   "metadata": {},
   "outputs": [],
   "source": []
  }
 ],
 "metadata": {
  "kernelspec": {
   "display_name": "Python 3 (ipykernel)",
   "language": "python",
   "name": "python3"
  },
  "language_info": {
   "codemirror_mode": {
    "name": "ipython",
    "version": 3
   },
   "file_extension": ".py",
   "mimetype": "text/x-python",
   "name": "python",
   "nbconvert_exporter": "python",
   "pygments_lexer": "ipython3",
   "version": "3.9.7"
  }
 },
 "nbformat": 4,
 "nbformat_minor": 5
}
